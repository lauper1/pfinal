{
 "metadata": {
  "language": "Julia",
  "name": "",
  "signature": "sha256:ed76cccd45fcce70b140d4df9a7c1dd3e51184d20543808a9220d5611c1e0148"
 },
 "nbformat": 3,
 "nbformat_minor": 0,
 "worksheets": [
  {
   "cells": [
    {
     "cell_type": "markdown",
     "metadata": {},
     "source": [
      "Estos es el notebook donde realizamos los tests para nuetro c\u00f3digo. Nuestros tests deb\u00edan contener purebas para intravlos en general, pero tambip\u00e9n para intervalos complejos.\n",
      "\n",
      "Decidimos ponerlo aparte para no mezclarlo con el notebook donde explicamos la DFT."
     ]
    },
    {
     "cell_type": "code",
     "collapsed": false,
     "input": [
      "include(\"testdft.jl\")"
     ],
     "language": "python",
     "metadata": {},
     "outputs": [
      {
       "output_type": "stream",
       "stream": "stdout",
       "text": [
        "definici\u00f3n correcta de intervalos, prop elementales\n"
       ]
      },
      {
       "output_type": "stream",
       "stream": "stdout",
       "text": [
        "2 facts verified.\n",
        "sumas, restas, multiplicaciones, divisiones\n"
       ]
      },
      {
       "output_type": "stream",
       "stream": "stdout",
       "text": [
        "7 facts verified.\n",
        "funciones elementales\n",
        "2 facts verified.\n",
        "intervalos complejos\n"
       ]
      },
      {
       "output_type": "stream",
       "stream": "stdout",
       "text": [
        "6 facts verified.\n"
       ]
      },
      {
       "metadata": {},
       "output_type": "pyout",
       "prompt_number": 5,
       "text": [
        "delayed_handler (generic function with 4 methods)"
       ]
      }
     ],
     "prompt_number": 5
    },
    {
     "cell_type": "code",
     "collapsed": false,
     "input": [],
     "language": "python",
     "metadata": {},
     "outputs": []
    }
   ],
   "metadata": {}
  }
 ]
}