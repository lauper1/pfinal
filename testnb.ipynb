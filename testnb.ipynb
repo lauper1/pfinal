{
 "metadata": {
  "language": "Julia",
  "name": "",
  "signature": "sha256:4a8b6046e1c1614e7c2941428d372bfbe8080431a4298f66606ec426bce0b2d9"
 },
 "nbformat": 3,
 "nbformat_minor": 0,
 "worksheets": [
  {
   "cells": [
    {
     "cell_type": "markdown",
     "metadata": {
      "slideshow": {
       "slide_type": "slide"
      }
     },
     "source": [
      "Este es el notebook donde realizamos los tests para nuetro c\u00f3digo. Nuestros tests deb\u00edan contener purebas para intravlos en general, pero tambip\u00e9n para intervalos complejos.\n",
      "\n",
      "Decidimos ponerlo aparte para no mezclarlo con el notebook donde explicamos la DFT."
     ]
    },
    {
     "cell_type": "code",
     "collapsed": false,
     "input": [
      "include(\"testdft.jl\")"
     ],
     "language": "python",
     "metadata": {},
     "outputs": [
      {
       "output_type": "stream",
       "stream": "stdout",
       "text": [
        "definici\u00f3n correcta de intervalos, prop elementales\n"
       ]
      },
      {
       "output_type": "stream",
       "stream": "stdout",
       "text": [
        "2 facts verified.\n",
        "sumas, restas, multiplicaciones, divisiones\n"
       ]
      },
      {
       "output_type": "stream",
       "stream": "stdout",
       "text": [
        "7 facts verified.\n",
        "funciones elementales\n",
        "2 facts verified.\n",
        "intervalos complejos\n"
       ]
      },
      {
       "output_type": "stream",
       "stream": "stdout",
       "text": [
        "6 facts verified.\n"
       ]
      },
      {
       "metadata": {},
       "output_type": "pyout",
       "prompt_number": 12,
       "text": [
        "delayed_handler (generic function with 4 methods)"
       ]
      }
     ],
     "prompt_number": 12
    },
    {
     "cell_type": "code",
     "collapsed": false,
     "input": [],
     "language": "python",
     "metadata": {},
     "outputs": []
    }
   ],
   "metadata": {}
  }
 ]
}