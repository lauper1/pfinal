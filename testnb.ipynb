{
 "metadata": {
  "celltoolbar": "Slideshow",
  "language": "Julia",
  "name": "",
  "signature": "sha256:cf72d8b8df216cc1c0f02c7fca6b9b1a8dce9d9fc6a40d0aa1f8655a0bc8c7fb"
 },
 "nbformat": 3,
 "nbformat_minor": 0,
 "worksheets": [
  {
   "cells": [
    {
     "cell_type": "markdown",
     "metadata": {
      "slideshow": {
       "slide_type": "slide"
      }
     },
     "source": [
      "Estos es el notebook donde realizamos los tests para nuetro c\u00f3digo. Nuestros tests deb\u00edan contener purebas para intravlos en general, pero tambip\u00e9n para intervalos complejos.\n",
      "\n",
      "Decidimos ponerlo aparte para no mezclarlo con el notebook donde explicamos la DFT."
     ]
    },
    {
     "cell_type": "code",
     "collapsed": false,
     "input": [
      "include(\"testdft.jl\")"
     ],
     "language": "python",
     "metadata": {
      "slideshow": {
       "slide_type": "slide"
      }
     },
     "outputs": [
      {
       "output_type": "stream",
       "stream": "stdout",
       "text": [
        "definici\u00f3n correcta de intervalos, prop elementales\n"
       ]
      },
      {
       "output_type": "stream",
       "stream": "stdout",
       "text": [
        "2 facts verified.\n",
        "sumas, restas, multiplicaciones, divisiones\n"
       ]
      },
      {
       "output_type": "stream",
       "stream": "stdout",
       "text": [
        "7 facts verified.\n",
        "funciones elementales\n",
        "2 facts verified.\n",
        "intervalos complejos\n"
       ]
      },
      {
       "output_type": "stream",
       "stream": "stdout",
       "text": [
        "6 facts verified.\n"
       ]
      },
      {
       "metadata": {},
       "output_type": "pyout",
       "prompt_number": 6,
       "text": [
        "delayed_handler (generic function with 4 methods)"
       ]
      }
     ],
     "prompt_number": 6
    },
    {
     "cell_type": "code",
     "collapsed": false,
     "input": [
      "ipython nbconvert testnb.ipynb --to slides"
     ],
     "language": "python",
     "metadata": {},
     "outputs": [
      {
       "ename": "LoadError",
       "evalue": "syntax: extra token \"nbconvert\" after end of expression\nwhile loading In[7], in expression starting on line 1",
       "output_type": "pyerr",
       "traceback": [
        "syntax: extra token \"nbconvert\" after end of expression\nwhile loading In[7], in expression starting on line 1",
        ""
       ]
      }
     ],
     "prompt_number": 7
    },
    {
     "cell_type": "code",
     "collapsed": false,
     "input": [
      "Pkg.add(\"nbconvert\")"
     ],
     "language": "python",
     "metadata": {},
     "outputs": [
      {
       "ename": "LoadError",
       "evalue": "unknown package nbconvert\nwhile loading In[11], in expression starting on line 1",
       "output_type": "pyerr",
       "traceback": [
        "unknown package nbconvert\nwhile loading In[11], in expression starting on line 1",
        "",
        " in wait at task.jl:51",
        " in sync_end at task.jl:311",
        " in add at pkg/entry.jl:319",
        " in add at pkg/entry.jl:71",
        " in anonymous at pkg/dir.jl:28",
        " in cd at file.jl:30",
        " in cd at pkg/dir.jl:28",
        " in add at pkg.jl:20"
       ]
      }
     ],
     "prompt_number": 11
    },
    {
     "cell_type": "code",
     "collapsed": false,
     "input": [],
     "language": "python",
     "metadata": {},
     "outputs": []
    }
   ],
   "metadata": {}
  }
 ]
}