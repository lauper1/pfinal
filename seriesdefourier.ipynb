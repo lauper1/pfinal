{
 "metadata": {
  "language": "Julia",
  "name": "",
  "signature": "sha256:9fa35117aa736b0b8ba46edef884d25ac636c1a56374a2788976e04da353965c"
 },
 "nbformat": 3,
 "nbformat_minor": 0,
 "worksheets": [
  {
   "cells": [
    {
     "cell_type": "markdown",
     "metadata": {},
     "source": [
      "An\u00e1lisis de Fourier para Funciones definidas en Intervalos"
     ]
    },
    {
     "cell_type": "markdown",
     "metadata": {},
     "source": [
      "Queremos ser capaces de poder analizar una se\u00f1al en t\u00e9rminos de su serie de Fourier."
     ]
    },
    {
     "cell_type": "markdown",
     "metadata": {},
     "source": [
      "La idea de descomponer una se\u00f1al en su serie de Fourier es poderla escribir como:\n",
      "\n",
      "\n",
      "$$f(t)=a_0/2+ \\Sigma_{n=1}^\\infty{a_n cos(\\frac{2n\\pi t}{T})+ b_n sen(\\frac{2n\\pi t}{T})}$$"
     ]
    },
    {
     "cell_type": "markdown",
     "metadata": {},
     "source": [
      "Para lograr encontrar los coeficiente $a_n, \\, b_n$ es necesario realizar las siguientes integrales:"
     ]
    },
    {
     "cell_type": "markdown",
     "metadata": {},
     "source": [
      "$$a_0=\\frac{2}{T}\\int_{-T/2}^{T/2} f(t)dt$$\n",
      "\n",
      "$$a_n=\\frac{2}{T}\\int_{-T/2}^{T/2} f(t) cos(\\frac{2n \\pi}{t}) dt$$\n",
      "\n",
      "$$b_n=\\frac{2}{T}\\int_{-T/2}^{T/2} f(t) sen(\\frac{2n \\pi}{t}) dt$$"
     ]
    },
    {
     "cell_type": "markdown",
     "metadata": {},
     "source": [
      "Por lo que en la practica necesitamos lograr tres puntos:\n",
      "\n",
      "1)Tener bien definidas las funciones trigonometricas seno y coseno para  en el modulo para intervalos.\n",
      "\n",
      "2) Leer una se\u00f1al, cuadrado, diente de sierra, o una se\u00f1al arbitraria peri\u00f3dica.\n",
      "\n",
      "3) Realizar las integrales con las que se obtienen los coeficientes de los t\u00e9rminos de la serie de Fourier."
     ]
    },
    {
     "cell_type": "raw",
     "metadata": {},
     "source": [
      "Para leer una se\u00f1al me sirve\n",
      "f = open(\"win.txt\")"
     ]
    },
    {
     "cell_type": "code",
     "collapsed": false,
     "input": [
      "Pkg.add(\"Cubature\")"
     ],
     "language": "python",
     "metadata": {},
     "outputs": [
      {
       "output_type": "stream",
       "stream": "stderr",
       "text": [
        "INFO: Nothing to be done\n"
       ]
      },
      {
       "output_type": "stream",
       "stream": "stderr",
       "text": [
        "INFO: METADATA is out-of-date \u2014 you may not have the latest version of Cubature\n"
       ]
      },
      {
       "output_type": "stream",
       "stream": "stderr",
       "text": [
        "INFO: Use `Pkg.update()` to get the latest versions of your packages\n"
       ]
      }
     ],
     "prompt_number": 21
    },
    {
     "cell_type": "code",
     "collapsed": false,
     "input": [
      "using Cubature"
     ],
     "language": "python",
     "metadata": {},
     "outputs": [],
     "prompt_number": 22
    },
    {
     "cell_type": "code",
     "collapsed": false,
     "input": [
      "hquadrature(x -> begin println(x); x^3; end, 0,1)"
     ],
     "language": "python",
     "metadata": {},
     "outputs": [
      {
       "output_type": "stream",
       "stream": "stdout",
       "text": [
        "0."
       ]
      },
      {
       "output_type": "stream",
       "stream": "stdout",
       "text": [
        "5\n",
        "0.025446043828620757\n",
        "0.9745539561713792\n",
        "0.12923440720030277\n",
        "0.8707655927996972\n",
        "0.2970774243113014\n",
        "0.7029225756886985\n",
        "0.004272314439593694\n",
        "0.9957276855604063\n",
        "0.06756778832011545\n",
        "0.9324322116798845\n",
        "0.20695638226615443\n",
        "0.7930436177338456\n",
        "0.39610752249605075\n",
        "0.6038924775039493\n"
       ]
      },
      {
       "metadata": {},
       "output_type": "pyout",
       "prompt_number": 23,
       "text": [
        "(0.25,2.7755575615628914e-15)"
       ]
      }
     ],
     "prompt_number": 23
    },
    {
     "cell_type": "code",
     "collapsed": false,
     "input": [
      "push!(LOAD_PATH, \"C:\\\\Users\\\\laura\\\\Desktop\\\\julia\\\\tareas-fca\\\\intervalos\")\n",
      "using Intervalosa\n",
      "using Complejos"
     ],
     "language": "python",
     "metadata": {},
     "outputs": [
      {
       "output_type": "stream",
       "stream": "stderr",
       "text": [
        "Warning: New definition \n",
        "    log"
       ]
      },
      {
       "output_type": "stream",
       "stream": "stderr",
       "text": [
        "(Real,Intervalo) at C:\\Users\\laura\\Desktop\\julia\\tareas-fca\\intervalos\\Intervalosa.jl:253\n",
        "is ambiguous with: \n",
        "    log(MathConst{:"
       ]
      },
      {
       "output_type": "stream",
       "stream": "stderr",
       "text": [
        "e},Any) at constants.jl:82.\n",
        "To fix, define \n",
        "    log(MathConst{:e},Intervalo)\n",
        "before the new definition.\n"
       ]
      },
      {
       "output_type": "stream",
       "stream": "stderr",
       "text": [
        "INFO: Loading help data...\n"
       ]
      }
     ],
     "prompt_number": 1
    },
    {
     "cell_type": "code",
     "collapsed": false,
     "input": [
      "R=Intervalo(0.1,1)\n",
      "I=Intervalo(0.1,1)\n",
      "a=IntC(R, I)"
     ],
     "language": "python",
     "metadata": {},
     "outputs": [
      {
       "metadata": {},
       "output_type": "pyout",
       "prompt_number": 11,
       "text": [
        "IntC(Intervalo(9.999999999999999999999999999999999999999999999999999999999999999999999999999914e-02 with 256 bits of precision,1e+00 with 256 bits of precision),Intervalo(9.999999999999999999999999999999999999999999999999999999999999999999999999999914e-02 with 256 bits of precision,1e+00 with 256 bits of precision))"
       ]
      }
     ],
     "prompt_number": 11
    },
    {
     "cell_type": "code",
     "collapsed": false,
     "input": [
      "norm(a)"
     ],
     "language": "python",
     "metadata": {},
     "outputs": [
      {
       "metadata": {},
       "output_type": "pyout",
       "prompt_number": 12,
       "text": [
        "Intervalo(1.999999999999999999999999999999999999999999999999999999999999999999999999999972e-02 with 256 bits of precision,2e+00 with 256 bits of precision)"
       ]
      }
     ],
     "prompt_number": 12
    },
    {
     "cell_type": "code",
     "collapsed": false,
     "input": [
      "a+a"
     ],
     "language": "python",
     "metadata": {},
     "outputs": [
      {
       "metadata": {},
       "output_type": "pyout",
       "prompt_number": 13,
       "text": [
        "IntC(Intervalo(1.999999999999999999999999999999999999999999999999999999999999999999999999999983e-01 with 256 bits of precision,2e+00 with 256 bits of precision),Intervalo(1.999999999999999999999999999999999999999999999999999999999999999999999999999983e-01 with 256 bits of precision,2e+00 with 256 bits of precision))"
       ]
      }
     ],
     "prompt_number": 13
    },
    {
     "cell_type": "code",
     "collapsed": false,
     "input": [
      "a-a"
     ],
     "language": "python",
     "metadata": {},
     "outputs": [
      {
       "metadata": {},
       "output_type": "pyout",
       "prompt_number": 14,
       "text": [
        "IntC(Intervalo(-9.000000000000000000000000000000000000000000000000000000000000000000000000000138e-01 with 256 bits of precision,9.000000000000000000000000000000000000000000000000000000000000000000000000000138e-01 with 256 bits of precision),Intervalo(-9.000000000000000000000000000000000000000000000000000000000000000000000000000138e-01 with 256 bits of precision,9.000000000000000000000000000000000000000000000000000000000000000000000000000138e-01 with 256 bits of precision))"
       ]
      }
     ],
     "prompt_number": 14
    },
    {
     "cell_type": "code",
     "collapsed": false,
     "input": [
      "a*a\n"
     ],
     "language": "python",
     "metadata": {},
     "outputs": [
      {
       "metadata": {},
       "output_type": "pyout",
       "prompt_number": 15,
       "text": [
        "IntC(Intervalo(-9.900000000000000000000000000000000000000000000000000000000000000000000000000031e-01 with 256 bits of precision,9.900000000000000000000000000000000000000000000000000000000000000000000000000031e-01 with 256 bits of precision),Intervalo(1.999999999999999999999999999999999999999999999999999999999999999999999999999945e-02 with 256 bits of precision,2e+00 with 256 bits of precision))"
       ]
      }
     ],
     "prompt_number": 15
    },
    {
     "cell_type": "code",
     "collapsed": false,
     "input": [
      "a/a"
     ],
     "language": "python",
     "metadata": {},
     "outputs": [
      {
       "metadata": {},
       "output_type": "pyout",
       "prompt_number": 16,
       "text": [
        "IntC(Intervalo(9.999999999999999999999999999999999999999999999999999999999999999999999999999725e-03 with 256 bits of precision,1.000000000000000000000000000000000000000000000000000000000000000000000000000033e+02 with 256 bits of precision),Intervalo(-4.950000000000000000000000000000000000000000000000000000000000000000000000000221e+01 with 256 bits of precision,4.950000000000000000000000000000000000000000000000000000000000000000000000000221e+01 with 256 bits of precision))"
       ]
      }
     ],
     "prompt_number": 16
    },
    {
     "cell_type": "code",
     "collapsed": false,
     "input": [
      "R+R"
     ],
     "language": "python",
     "metadata": {},
     "outputs": [
      {
       "metadata": {},
       "output_type": "pyout",
       "prompt_number": 17,
       "text": [
        "Intervalo(1.999999999999999999999999999999999999999999999999999999999999999999999999999983e-01 with 256 bits of precision,2e+00 with 256 bits of precision)"
       ]
      }
     ],
     "prompt_number": 17
    },
    {
     "cell_type": "code",
     "collapsed": false,
     "input": [],
     "language": "python",
     "metadata": {},
     "outputs": []
    },
    {
     "cell_type": "code",
     "collapsed": false,
     "input": [
      "using PyPlot\n",
      "function sin_ruido(F, L)\n",
      "    T=1/F\n",
      "    x=zeros(L)\n",
      "    t=zeros(L)\n",
      "    A=zeros(2)\n",
      "    for i=1:L\n",
      "        t[i]=i*T\n",
      "        \n",
      "        x[i]= 0.7*sin(2*pi*350*t[i])+sin(2* pi* 120*t[i])\n",
      "    end\n",
      "    y= x+rand(length(x))\n",
      "    #{t,y= x+rand(length(x))}\n",
      "   \n",
      "    #plot(t,y)\n",
      "    #y\n",
      "end"
     ],
     "language": "python",
     "metadata": {},
     "outputs": [
      {
       "metadata": {},
       "output_type": "pyout",
       "prompt_number": 217,
       "text": [
        "sin_ruido (generic function with 1 method)"
       ]
      }
     ],
     "prompt_number": 217
    },
    {
     "cell_type": "code",
     "collapsed": false,
     "input": [
      "function DFT(y)\n",
      "    N=length(y)\n",
      "    TFY= zeros(Complex, N)\n",
      "for k in 1:N\n",
      "        w=exp(-2*\u03c0*k*im/N)\n",
      "        TFY[k]= sum([(w^n*y[n]) for n in 1:N])\n",
      "end  \n",
      "TFY     \n",
      "end"
     ],
     "language": "python",
     "metadata": {},
     "outputs": [
      {
       "metadata": {},
       "output_type": "pyout",
       "prompt_number": 218,
       "text": [
        "DFT (generic function with 1 method)"
       ]
      }
     ],
     "prompt_number": 218
    },
    {
     "cell_type": "code",
     "collapsed": false,
     "input": [
      "y=sin_ruido(100, 100);"
     ],
     "language": "python",
     "metadata": {},
     "outputs": [],
     "prompt_number": 219
    },
    {
     "cell_type": "code",
     "collapsed": false,
     "input": [
      "u=DFT(y);"
     ],
     "language": "python",
     "metadata": {},
     "outputs": [],
     "prompt_number": 222
    },
    {
     "cell_type": "code",
     "collapsed": false,
     "input": [
      "f=[i for i in 1:length(u)]\n",
      "plot(f, abs(u))\n",
      "xlim(0,40)"
     ],
     "language": "python",
     "metadata": {},
     "outputs": [
      {
       "metadata": {},
       "output_type": "display_data",
       "png": "[encoded data removed]",
       "text": [
        "Figure(PyObject <matplotlib.figure.Figure object at 0x00000000292417F0>)"
       ]
      },
      {
       "metadata": {},
       "output_type": "pyout",
       "prompt_number": 224,
       "text": [
        "(0,40)"
       ]
      }
     ],
     "prompt_number": 224
    },
    {
     "cell_type": "code",
     "collapsed": false,
     "input": [
      "tic()\n",
      "o=1+1+1+1+1+50+9+2.0^10000000000000000\n",
      "\n",
      "println(o)\n",
      "toc()"
     ],
     "language": "python",
     "metadata": {},
     "outputs": [
      {
       "output_type": "stream",
       "stream": "stdout",
       "text": [
        "Inf"
       ]
      },
      {
       "output_type": "stream",
       "stream": "stdout",
       "text": [
        "\n",
        "elapsed time: 0.004881503 seconds\n"
       ]
      },
      {
       "metadata": {},
       "output_type": "pyout",
       "prompt_number": 247,
       "text": [
        "0.004881503"
       ]
      }
     ],
     "prompt_number": 247
    },
    {
     "cell_type": "code",
     "collapsed": false,
     "input": [
      "0.00663481"
     ],
     "language": "python",
     "metadata": {},
     "outputs": []
    }
   ],
   "metadata": {}
  }
 ]
}