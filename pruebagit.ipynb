{
 "metadata": {
  "language": "Julia",
  "name": "",
  "signature": "sha256:1bc688d1665b525142ea283c6f63aac13e63e586a6da4a7575f901624f296b2a"
 },
 "nbformat": 3,
 "nbformat_minor": 0,
 "worksheets": [
  {
   "cells": [
    {
     "cell_type": "code",
     "collapsed": false,
     "input": [
      "notebook de prueba para git"
     ],
     "language": "python",
     "metadata": {},
     "outputs": []
    }
   ],
   "metadata": {}
  }
 ]
}