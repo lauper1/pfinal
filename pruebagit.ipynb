{
 "metadata": {
  "language": "Julia",
  "name": "",
  "signature": "sha256:d5b0da34e750586525bed8bd2e9e4a322ab44a624d44b193ec1552263c06c73e"
 },
 "nbformat": 3,
 "nbformat_minor": 0,
 "worksheets": [
  {
   "cells": [
    {
     "cell_type": "heading",
     "level": 1,
     "metadata": {},
     "source": [
      "Hola parce (:"
     ]
    }
   ],
   "metadata": {}
  }
 ]
}